{
 "cells": [
  {
   "cell_type": "markdown",
   "metadata": {
    "toc": true
   },
   "source": [
    "<h1>Table of Contents<span class=\"tocSkip\"></span></h1>\n",
    "<div class=\"toc\"><ul class=\"toc-item\"><li><span><a href=\"#Introduction-and-Preparation\" data-toc-modified-id=\"Introduction-and-Preparation-1\"><span class=\"toc-item-num\">1&nbsp;&nbsp;</span>Introduction and Preparation</a></span><ul class=\"toc-item\"><li><span><a href=\"#Introduction-of-the-whole-and-navigation-above\" data-toc-modified-id=\"Introduction-of-the-whole-and-navigation-above-1.1\"><span class=\"toc-item-num\">1.1&nbsp;&nbsp;</span>Introduction of the whole and navigation above</a></span></li><li><span><a href=\"#Usual-preparation\" data-toc-modified-id=\"Usual-preparation-1.2\"><span class=\"toc-item-num\">1.2&nbsp;&nbsp;</span>Usual preparation</a></span></li></ul></li><li><span><a href=\"#Trim-part\" data-toc-modified-id=\"Trim-part-2\"><span class=\"toc-item-num\">2&nbsp;&nbsp;</span>Trim part</a></span><ul class=\"toc-item\"><li><span><a href=\"#Date-time-unify-and-division\" data-toc-modified-id=\"Date-time-unify-and-division-2.1\"><span class=\"toc-item-num\">2.1&nbsp;&nbsp;</span>Date time unify and division</a></span></li><li><span><a href=\"#Category-Name-needed\" data-toc-modified-id=\"Category-Name-needed-2.2\"><span class=\"toc-item-num\">2.2&nbsp;&nbsp;</span>Category Name needed</a></span></li></ul></li><li><span><a href=\"#Visualization-Part\" data-toc-modified-id=\"Visualization-Part-3\"><span class=\"toc-item-num\">3&nbsp;&nbsp;</span>Visualization Part</a></span><ul class=\"toc-item\"><li><span><a href=\"#Show-some-word-cloud-interactively\" data-toc-modified-id=\"Show-some-word-cloud-interactively-3.1\"><span class=\"toc-item-num\">3.1&nbsp;&nbsp;</span>Show some word cloud interactively</a></span></li><li><span><a href=\"#Show-detailed-reviews-interactively\" data-toc-modified-id=\"Show-detailed-reviews-interactively-3.2\"><span class=\"toc-item-num\">3.2&nbsp;&nbsp;</span>Show detailed reviews interactively</a></span><ul class=\"toc-item\"><li><span><a href=\"#Static-Bar-of-different-review-variables-grouped-by-category\" data-toc-modified-id=\"Static-Bar-of-different-review-variables-grouped-by-category-3.2.1\"><span class=\"toc-item-num\">3.2.1&nbsp;&nbsp;</span>Static Bar of different review variables grouped by category</a></span></li><li><span><a href=\"#Pie-with-bar-of-Reviews-by-choosing-diffierent-category\" data-toc-modified-id=\"Pie-with-bar-of-Reviews-by-choosing-diffierent-category-3.2.2\"><span class=\"toc-item-num\">3.2.2&nbsp;&nbsp;</span>Pie with bar of Reviews by choosing diffierent category</a></span></li><li><span><a href=\"#Heatmap-of-correlation-bewtween-possible-review-variables\" data-toc-modified-id=\"Heatmap-of-correlation-bewtween-possible-review-variables-3.2.3\"><span class=\"toc-item-num\">3.2.3&nbsp;&nbsp;</span>Heatmap of correlation bewtween possible review variables</a></span></li></ul></li><li><span><a href=\"#Other-discover\" data-toc-modified-id=\"Other-discover-3.3\"><span class=\"toc-item-num\">3.3&nbsp;&nbsp;</span>Other discover</a></span><ul class=\"toc-item\"><li><span><a href=\"#Heatmap-of-the-trending-duration\" data-toc-modified-id=\"Heatmap-of-the-trending-duration-3.3.1\"><span class=\"toc-item-num\">3.3.1&nbsp;&nbsp;</span>Heatmap of the trending duration</a></span></li><li><span><a href=\"#Replot-the-heatmap-in-part-3.2-when-adding-the-column-'trending_days'\" data-toc-modified-id=\"Replot-the-heatmap-in-part-3.2-when-adding-the-column-'trending_days'-3.3.2\"><span class=\"toc-item-num\">3.3.2&nbsp;&nbsp;</span>Replot the heatmap in part 3.2 when adding the column 'trending_days'</a></span></li></ul></li></ul></li><li><span><a href=\"#Conlusion\" data-toc-modified-id=\"Conlusion-4\"><span class=\"toc-item-num\">4&nbsp;&nbsp;</span>Conlusion</a></span></li></ul></div>"
   ]
  },
  {
   "cell_type": "markdown",
   "metadata": {},
   "source": [
    "# Final Project - Part 2"
   ]
  },
  {
   "cell_type": "markdown",
   "metadata": {},
   "source": [
    "Name: Xinyu Liu\n",
    "\n",
    "Id: xinyul10"
   ]
  },
  {
   "cell_type": "markdown",
   "metadata": {},
   "source": [
    "## Introduction and Preparation"
   ]
  },
  {
   "cell_type": "markdown",
   "metadata": {},
   "source": [
    "### Introduction of the whole and navigation above"
   ]
  },
  {
   "cell_type": "markdown",
   "metadata": {},
   "source": [
    "The above navigation table of contents shows the general framework and construction of my work. It is dividied into 4 parts: Introduction and Preparation part, Trim part, Visualization part and Conclusion part. In the Introduction and Preparation part, there are the introduction of the project, instrcutions to scan this notebook, some usual imports and check the dataset we need to use again. During the Trim part, I do some clean and edit to better prepare for the later visualization, specially here, I solve the two probelm: Unified time type and missing category name (only id). Then, the most important part of the whol project is visualization part, which shows interactive visualization to help users better discover the dataset. And the last conclusion part includes some conclusions and feelings I get throughout the proccess. By the way, every operation has decription under it and some comments within it, which makes it relatively easy and comfortable to read."
   ]
  },
  {
   "cell_type": "markdown",
   "metadata": {},
   "source": [
    "### Usual preparation"
   ]
  },
  {
   "cell_type": "code",
   "execution_count": 1,
   "metadata": {},
   "outputs": [],
   "source": [
    "# import the necessary packages\n",
    "%matplotlib inline \n",
    "import matplotlib\n",
    "import matplotlib.pyplot as plt\n",
    "import pandas as pd\n",
    "import numpy as np\n",
    "import ipywidgets  # especially for interaction\n",
    "from wordcloud import WordCloud\n",
    "import plotly.graph_objects as go\n",
    "import datetime as dt\n",
    "import seaborn as sns # package for plotting heatmap"
   ]
  },
  {
   "cell_type": "code",
   "execution_count": 2,
   "metadata": {},
   "outputs": [
    {
     "data": {
      "text/html": [
       "<div>\n",
       "<style scoped>\n",
       "    .dataframe tbody tr th:only-of-type {\n",
       "        vertical-align: middle;\n",
       "    }\n",
       "\n",
       "    .dataframe tbody tr th {\n",
       "        vertical-align: top;\n",
       "    }\n",
       "\n",
       "    .dataframe thead th {\n",
       "        text-align: right;\n",
       "    }\n",
       "</style>\n",
       "<table border=\"1\" class=\"dataframe\">\n",
       "  <thead>\n",
       "    <tr style=\"text-align: right;\">\n",
       "      <th></th>\n",
       "      <th>video_id</th>\n",
       "      <th>trending_date</th>\n",
       "      <th>title</th>\n",
       "      <th>channel_title</th>\n",
       "      <th>category_id</th>\n",
       "      <th>publish_time</th>\n",
       "      <th>tags</th>\n",
       "      <th>views</th>\n",
       "      <th>likes</th>\n",
       "      <th>dislikes</th>\n",
       "      <th>comment_count</th>\n",
       "      <th>thumbnail_link</th>\n",
       "      <th>comments_disabled</th>\n",
       "      <th>ratings_disabled</th>\n",
       "      <th>video_error_or_removed</th>\n",
       "      <th>description</th>\n",
       "    </tr>\n",
       "  </thead>\n",
       "  <tbody>\n",
       "    <tr>\n",
       "      <td>0</td>\n",
       "      <td>2kyS6SvSYSE</td>\n",
       "      <td>17.14.11</td>\n",
       "      <td>WE WANT TO TALK ABOUT OUR MARRIAGE</td>\n",
       "      <td>CaseyNeistat</td>\n",
       "      <td>22</td>\n",
       "      <td>2017-11-13T17:13:01.000Z</td>\n",
       "      <td>SHANtell martin</td>\n",
       "      <td>748374</td>\n",
       "      <td>57527</td>\n",
       "      <td>2966</td>\n",
       "      <td>15954</td>\n",
       "      <td>https://i.ytimg.com/vi/2kyS6SvSYSE/default.jpg</td>\n",
       "      <td>False</td>\n",
       "      <td>False</td>\n",
       "      <td>False</td>\n",
       "      <td>SHANTELL'S CHANNEL - https://www.youtube.com/s...</td>\n",
       "    </tr>\n",
       "    <tr>\n",
       "      <td>1</td>\n",
       "      <td>1ZAPwfrtAFY</td>\n",
       "      <td>17.14.11</td>\n",
       "      <td>The Trump Presidency: Last Week Tonight with J...</td>\n",
       "      <td>LastWeekTonight</td>\n",
       "      <td>24</td>\n",
       "      <td>2017-11-13T07:30:00.000Z</td>\n",
       "      <td>last week tonight trump presidency|\"last week ...</td>\n",
       "      <td>2418783</td>\n",
       "      <td>97185</td>\n",
       "      <td>6146</td>\n",
       "      <td>12703</td>\n",
       "      <td>https://i.ytimg.com/vi/1ZAPwfrtAFY/default.jpg</td>\n",
       "      <td>False</td>\n",
       "      <td>False</td>\n",
       "      <td>False</td>\n",
       "      <td>One year after the presidential election, John...</td>\n",
       "    </tr>\n",
       "    <tr>\n",
       "      <td>2</td>\n",
       "      <td>5qpjK5DgCt4</td>\n",
       "      <td>17.14.11</td>\n",
       "      <td>Racist Superman | Rudy Mancuso, King Bach &amp; Le...</td>\n",
       "      <td>Rudy Mancuso</td>\n",
       "      <td>23</td>\n",
       "      <td>2017-11-12T19:05:24.000Z</td>\n",
       "      <td>racist superman|\"rudy\"|\"mancuso\"|\"king\"|\"bach\"...</td>\n",
       "      <td>3191434</td>\n",
       "      <td>146033</td>\n",
       "      <td>5339</td>\n",
       "      <td>8181</td>\n",
       "      <td>https://i.ytimg.com/vi/5qpjK5DgCt4/default.jpg</td>\n",
       "      <td>False</td>\n",
       "      <td>False</td>\n",
       "      <td>False</td>\n",
       "      <td>WATCH MY PREVIOUS VIDEO ▶ \\n\\nSUBSCRIBE ► http...</td>\n",
       "    </tr>\n",
       "    <tr>\n",
       "      <td>3</td>\n",
       "      <td>puqaWrEC7tY</td>\n",
       "      <td>17.14.11</td>\n",
       "      <td>Nickelback Lyrics: Real or Fake?</td>\n",
       "      <td>Good Mythical Morning</td>\n",
       "      <td>24</td>\n",
       "      <td>2017-11-13T11:00:04.000Z</td>\n",
       "      <td>rhett and link|\"gmm\"|\"good mythical morning\"|\"...</td>\n",
       "      <td>343168</td>\n",
       "      <td>10172</td>\n",
       "      <td>666</td>\n",
       "      <td>2146</td>\n",
       "      <td>https://i.ytimg.com/vi/puqaWrEC7tY/default.jpg</td>\n",
       "      <td>False</td>\n",
       "      <td>False</td>\n",
       "      <td>False</td>\n",
       "      <td>Today we find out if Link is a Nickelback amat...</td>\n",
       "    </tr>\n",
       "    <tr>\n",
       "      <td>4</td>\n",
       "      <td>d380meD0W0M</td>\n",
       "      <td>17.14.11</td>\n",
       "      <td>I Dare You: GOING BALD!?</td>\n",
       "      <td>nigahiga</td>\n",
       "      <td>24</td>\n",
       "      <td>2017-11-12T18:01:41.000Z</td>\n",
       "      <td>ryan|\"higa\"|\"higatv\"|\"nigahiga\"|\"i dare you\"|\"...</td>\n",
       "      <td>2095731</td>\n",
       "      <td>132235</td>\n",
       "      <td>1989</td>\n",
       "      <td>17518</td>\n",
       "      <td>https://i.ytimg.com/vi/d380meD0W0M/default.jpg</td>\n",
       "      <td>False</td>\n",
       "      <td>False</td>\n",
       "      <td>False</td>\n",
       "      <td>I know it's been a while since we did this sho...</td>\n",
       "    </tr>\n",
       "  </tbody>\n",
       "</table>\n",
       "</div>"
      ],
      "text/plain": [
       "      video_id trending_date  \\\n",
       "0  2kyS6SvSYSE      17.14.11   \n",
       "1  1ZAPwfrtAFY      17.14.11   \n",
       "2  5qpjK5DgCt4      17.14.11   \n",
       "3  puqaWrEC7tY      17.14.11   \n",
       "4  d380meD0W0M      17.14.11   \n",
       "\n",
       "                                               title          channel_title  \\\n",
       "0                 WE WANT TO TALK ABOUT OUR MARRIAGE           CaseyNeistat   \n",
       "1  The Trump Presidency: Last Week Tonight with J...        LastWeekTonight   \n",
       "2  Racist Superman | Rudy Mancuso, King Bach & Le...           Rudy Mancuso   \n",
       "3                   Nickelback Lyrics: Real or Fake?  Good Mythical Morning   \n",
       "4                           I Dare You: GOING BALD!?               nigahiga   \n",
       "\n",
       "   category_id              publish_time  \\\n",
       "0           22  2017-11-13T17:13:01.000Z   \n",
       "1           24  2017-11-13T07:30:00.000Z   \n",
       "2           23  2017-11-12T19:05:24.000Z   \n",
       "3           24  2017-11-13T11:00:04.000Z   \n",
       "4           24  2017-11-12T18:01:41.000Z   \n",
       "\n",
       "                                                tags    views   likes  \\\n",
       "0                                    SHANtell martin   748374   57527   \n",
       "1  last week tonight trump presidency|\"last week ...  2418783   97185   \n",
       "2  racist superman|\"rudy\"|\"mancuso\"|\"king\"|\"bach\"...  3191434  146033   \n",
       "3  rhett and link|\"gmm\"|\"good mythical morning\"|\"...   343168   10172   \n",
       "4  ryan|\"higa\"|\"higatv\"|\"nigahiga\"|\"i dare you\"|\"...  2095731  132235   \n",
       "\n",
       "   dislikes  comment_count                                  thumbnail_link  \\\n",
       "0      2966          15954  https://i.ytimg.com/vi/2kyS6SvSYSE/default.jpg   \n",
       "1      6146          12703  https://i.ytimg.com/vi/1ZAPwfrtAFY/default.jpg   \n",
       "2      5339           8181  https://i.ytimg.com/vi/5qpjK5DgCt4/default.jpg   \n",
       "3       666           2146  https://i.ytimg.com/vi/puqaWrEC7tY/default.jpg   \n",
       "4      1989          17518  https://i.ytimg.com/vi/d380meD0W0M/default.jpg   \n",
       "\n",
       "   comments_disabled  ratings_disabled  video_error_or_removed  \\\n",
       "0              False             False                   False   \n",
       "1              False             False                   False   \n",
       "2              False             False                   False   \n",
       "3              False             False                   False   \n",
       "4              False             False                   False   \n",
       "\n",
       "                                         description  \n",
       "0  SHANTELL'S CHANNEL - https://www.youtube.com/s...  \n",
       "1  One year after the presidential election, John...  \n",
       "2  WATCH MY PREVIOUS VIDEO ▶ \\n\\nSUBSCRIBE ► http...  \n",
       "3  Today we find out if Link is a Nickelback amat...  \n",
       "4  I know it's been a while since we did this sho...  "
      ]
     },
     "execution_count": 2,
     "metadata": {},
     "output_type": "execute_result"
    }
   ],
   "source": [
    "# Before exploring, show the data\n",
    "us_videos = pd.read_csv(\"USvideos.csv\")\n",
    "us_videos.head()"
   ]
  },
  {
   "cell_type": "code",
   "execution_count": 3,
   "metadata": {},
   "outputs": [
    {
     "data": {
      "text/plain": [
       "video_id                  object\n",
       "trending_date             object\n",
       "title                     object\n",
       "channel_title             object\n",
       "category_id                int64\n",
       "publish_time              object\n",
       "tags                      object\n",
       "views                      int64\n",
       "likes                      int64\n",
       "dislikes                   int64\n",
       "comment_count              int64\n",
       "thumbnail_link            object\n",
       "comments_disabled           bool\n",
       "ratings_disabled            bool\n",
       "video_error_or_removed      bool\n",
       "description               object\n",
       "dtype: object"
      ]
     },
     "execution_count": 3,
     "metadata": {},
     "output_type": "execute_result"
    }
   ],
   "source": [
    "# scan the data types\n",
    "us_videos.dtypes"
   ]
  },
  {
   "cell_type": "markdown",
   "metadata": {},
   "source": [
    "## Trim part"
   ]
  },
  {
   "cell_type": "markdown",
   "metadata": {},
   "source": [
    "There are some problems needed to solve in advance, which are those I met during the period of test visualization. And here I put it before showing the visualization."
   ]
  },
  {
   "cell_type": "markdown",
   "metadata": {},
   "source": [
    "### Date time unify and division"
   ]
  },
  {
   "cell_type": "code",
   "execution_count": 4,
   "metadata": {},
   "outputs": [
    {
     "data": {
      "text/html": [
       "<div>\n",
       "<style scoped>\n",
       "    .dataframe tbody tr th:only-of-type {\n",
       "        vertical-align: middle;\n",
       "    }\n",
       "\n",
       "    .dataframe tbody tr th {\n",
       "        vertical-align: top;\n",
       "    }\n",
       "\n",
       "    .dataframe thead th {\n",
       "        text-align: right;\n",
       "    }\n",
       "</style>\n",
       "<table border=\"1\" class=\"dataframe\">\n",
       "  <thead>\n",
       "    <tr style=\"text-align: right;\">\n",
       "      <th></th>\n",
       "      <th>publish_date</th>\n",
       "      <th>publish_time</th>\n",
       "    </tr>\n",
       "  </thead>\n",
       "  <tbody>\n",
       "    <tr>\n",
       "      <td>0</td>\n",
       "      <td>2017-11-13</td>\n",
       "      <td>17:13:01</td>\n",
       "    </tr>\n",
       "    <tr>\n",
       "      <td>1</td>\n",
       "      <td>2017-11-13</td>\n",
       "      <td>07:30:00</td>\n",
       "    </tr>\n",
       "    <tr>\n",
       "      <td>2</td>\n",
       "      <td>2017-11-12</td>\n",
       "      <td>19:05:24</td>\n",
       "    </tr>\n",
       "    <tr>\n",
       "      <td>3</td>\n",
       "      <td>2017-11-13</td>\n",
       "      <td>11:00:04</td>\n",
       "    </tr>\n",
       "    <tr>\n",
       "      <td>4</td>\n",
       "      <td>2017-11-12</td>\n",
       "      <td>18:01:41</td>\n",
       "    </tr>\n",
       "  </tbody>\n",
       "</table>\n",
       "</div>"
      ],
      "text/plain": [
       "  publish_date publish_time\n",
       "0   2017-11-13     17:13:01\n",
       "1   2017-11-13     07:30:00\n",
       "2   2017-11-12     19:05:24\n",
       "3   2017-11-13     11:00:04\n",
       "4   2017-11-12     18:01:41"
      ]
     },
     "execution_count": 4,
     "metadata": {},
     "output_type": "execute_result"
    }
   ],
   "source": [
    "# Solve the different format of colomns with date/time data by coverting to datatime series\n",
    "# (trending date and publish date are not format conformably)\n",
    "us_videos['trending_date'] = pd.to_datetime(us_videos['trending_date'], errors='coerce', format='%y.%d.%m')\n",
    "us_videos['publish_time'] = pd.to_datetime(us_videos['publish_time'], errors='coerce', format='%Y-%m-%d')\n",
    "\n",
    "# include those are not null\n",
    "us_videos = us_videos[us_videos['trending_date'].notnull()]\n",
    "us_videos = us_videos[us_videos['publish_time'].notnull()]\n",
    "us_videos = us_videos.dropna(how='any',inplace=False, axis = 0)\n",
    "\n",
    "# add a new column 'publish_date' from orignal 'publish_time' \n",
    "# and keep only the really date in 'publish_time' so to divided them\n",
    "us_videos['publish_date'] = us_videos['publish_time'].dt.date\n",
    "us_videos['publish_time'] = us_videos['publish_time'].dt.time\n",
    "\n",
    "# scan the result\n",
    "us_videos[['publish_date','publish_time']].head()"
   ]
  },
  {
   "cell_type": "markdown",
   "metadata": {},
   "source": [
    "### Category Name needed"
   ]
  },
  {
   "cell_type": "code",
   "execution_count": 5,
   "metadata": {},
   "outputs": [
    {
     "data": {
      "text/html": [
       "<div>\n",
       "<style scoped>\n",
       "    .dataframe tbody tr th:only-of-type {\n",
       "        vertical-align: middle;\n",
       "    }\n",
       "\n",
       "    .dataframe tbody tr th {\n",
       "        vertical-align: top;\n",
       "    }\n",
       "\n",
       "    .dataframe thead th {\n",
       "        text-align: right;\n",
       "    }\n",
       "</style>\n",
       "<table border=\"1\" class=\"dataframe\">\n",
       "  <thead>\n",
       "    <tr style=\"text-align: right;\">\n",
       "      <th></th>\n",
       "      <th>kind</th>\n",
       "      <th>etag</th>\n",
       "      <th>items</th>\n",
       "    </tr>\n",
       "  </thead>\n",
       "  <tbody>\n",
       "    <tr>\n",
       "      <td>0</td>\n",
       "      <td>youtube#videoCategoryListResponse</td>\n",
       "      <td>\"m2yskBQFythfE4irbTIeOgYYfBU/S730Ilt-Fi-emsQJv...</td>\n",
       "      <td>{'kind': 'youtube#videoCategory', 'etag': '\"m2...</td>\n",
       "    </tr>\n",
       "    <tr>\n",
       "      <td>1</td>\n",
       "      <td>youtube#videoCategoryListResponse</td>\n",
       "      <td>\"m2yskBQFythfE4irbTIeOgYYfBU/S730Ilt-Fi-emsQJv...</td>\n",
       "      <td>{'kind': 'youtube#videoCategory', 'etag': '\"m2...</td>\n",
       "    </tr>\n",
       "    <tr>\n",
       "      <td>2</td>\n",
       "      <td>youtube#videoCategoryListResponse</td>\n",
       "      <td>\"m2yskBQFythfE4irbTIeOgYYfBU/S730Ilt-Fi-emsQJv...</td>\n",
       "      <td>{'kind': 'youtube#videoCategory', 'etag': '\"m2...</td>\n",
       "    </tr>\n",
       "    <tr>\n",
       "      <td>3</td>\n",
       "      <td>youtube#videoCategoryListResponse</td>\n",
       "      <td>\"m2yskBQFythfE4irbTIeOgYYfBU/S730Ilt-Fi-emsQJv...</td>\n",
       "      <td>{'kind': 'youtube#videoCategory', 'etag': '\"m2...</td>\n",
       "    </tr>\n",
       "    <tr>\n",
       "      <td>4</td>\n",
       "      <td>youtube#videoCategoryListResponse</td>\n",
       "      <td>\"m2yskBQFythfE4irbTIeOgYYfBU/S730Ilt-Fi-emsQJv...</td>\n",
       "      <td>{'kind': 'youtube#videoCategory', 'etag': '\"m2...</td>\n",
       "    </tr>\n",
       "  </tbody>\n",
       "</table>\n",
       "</div>"
      ],
      "text/plain": [
       "                                kind  \\\n",
       "0  youtube#videoCategoryListResponse   \n",
       "1  youtube#videoCategoryListResponse   \n",
       "2  youtube#videoCategoryListResponse   \n",
       "3  youtube#videoCategoryListResponse   \n",
       "4  youtube#videoCategoryListResponse   \n",
       "\n",
       "                                                etag  \\\n",
       "0  \"m2yskBQFythfE4irbTIeOgYYfBU/S730Ilt-Fi-emsQJv...   \n",
       "1  \"m2yskBQFythfE4irbTIeOgYYfBU/S730Ilt-Fi-emsQJv...   \n",
       "2  \"m2yskBQFythfE4irbTIeOgYYfBU/S730Ilt-Fi-emsQJv...   \n",
       "3  \"m2yskBQFythfE4irbTIeOgYYfBU/S730Ilt-Fi-emsQJv...   \n",
       "4  \"m2yskBQFythfE4irbTIeOgYYfBU/S730Ilt-Fi-emsQJv...   \n",
       "\n",
       "                                               items  \n",
       "0  {'kind': 'youtube#videoCategory', 'etag': '\"m2...  \n",
       "1  {'kind': 'youtube#videoCategory', 'etag': '\"m2...  \n",
       "2  {'kind': 'youtube#videoCategory', 'etag': '\"m2...  \n",
       "3  {'kind': 'youtube#videoCategory', 'etag': '\"m2...  \n",
       "4  {'kind': 'youtube#videoCategory', 'etag': '\"m2...  "
      ]
     },
     "execution_count": 5,
     "metadata": {},
     "output_type": "execute_result"
    }
   ],
   "source": [
    "# Slove the problem of missing category name inthe dataset\n",
    "# There is another json file record the US video category file-\n",
    "# and I would unify it into the csv to make it more integral.\n",
    "category = pd.read_json('US_category_id.json')\n",
    "category.head()"
   ]
  },
  {
   "cell_type": "code",
   "execution_count": 6,
   "metadata": {},
   "outputs": [
    {
     "data": {
      "text/plain": [
       "{'kind': 'youtube#videoCategory',\n",
       " 'etag': '\"m2yskBQFythfE4irbTIeOgYYfBU/Xy1mB4_yLrHy_BmKmPBggty2mZQ\"',\n",
       " 'id': '1',\n",
       " 'snippet': {'channelId': 'UCBR8-60-B28hp2BmDPdntcQ',\n",
       "  'title': 'Film & Animation',\n",
       "  'assignable': True}}"
      ]
     },
     "execution_count": 6,
     "metadata": {},
     "output_type": "execute_result"
    }
   ],
   "source": [
    "# take a look at the column 'items'\n",
    "category['items'].iloc[0]"
   ]
  },
  {
   "cell_type": "markdown",
   "metadata": {},
   "source": [
    "Obviously, the information of category id and name stored in column 'items', so we need to extract them and make them into a dataframe, them merge with our 'us_videos' dataframe."
   ]
  },
  {
   "cell_type": "code",
   "execution_count": 7,
   "metadata": {},
   "outputs": [
    {
     "data": {
      "text/html": [
       "<div>\n",
       "<style scoped>\n",
       "    .dataframe tbody tr th:only-of-type {\n",
       "        vertical-align: middle;\n",
       "    }\n",
       "\n",
       "    .dataframe tbody tr th {\n",
       "        vertical-align: top;\n",
       "    }\n",
       "\n",
       "    .dataframe thead th {\n",
       "        text-align: right;\n",
       "    }\n",
       "</style>\n",
       "<table border=\"1\" class=\"dataframe\">\n",
       "  <thead>\n",
       "    <tr style=\"text-align: right;\">\n",
       "      <th></th>\n",
       "      <th>video_id</th>\n",
       "      <th>trending_date</th>\n",
       "      <th>title</th>\n",
       "      <th>channel_title</th>\n",
       "      <th>category_id</th>\n",
       "      <th>publish_time</th>\n",
       "      <th>tags</th>\n",
       "      <th>views</th>\n",
       "      <th>likes</th>\n",
       "      <th>dislikes</th>\n",
       "      <th>comment_count</th>\n",
       "      <th>thumbnail_link</th>\n",
       "      <th>comments_disabled</th>\n",
       "      <th>ratings_disabled</th>\n",
       "      <th>video_error_or_removed</th>\n",
       "      <th>description</th>\n",
       "      <th>publish_date</th>\n",
       "      <th>category_name</th>\n",
       "    </tr>\n",
       "  </thead>\n",
       "  <tbody>\n",
       "    <tr>\n",
       "      <td>0</td>\n",
       "      <td>2kyS6SvSYSE</td>\n",
       "      <td>2017-11-14</td>\n",
       "      <td>WE WANT TO TALK ABOUT OUR MARRIAGE</td>\n",
       "      <td>CaseyNeistat</td>\n",
       "      <td>22</td>\n",
       "      <td>17:13:01</td>\n",
       "      <td>SHANtell martin</td>\n",
       "      <td>748374</td>\n",
       "      <td>57527</td>\n",
       "      <td>2966</td>\n",
       "      <td>15954</td>\n",
       "      <td>https://i.ytimg.com/vi/2kyS6SvSYSE/default.jpg</td>\n",
       "      <td>False</td>\n",
       "      <td>False</td>\n",
       "      <td>False</td>\n",
       "      <td>SHANTELL'S CHANNEL - https://www.youtube.com/s...</td>\n",
       "      <td>2017-11-13</td>\n",
       "      <td>Documentary</td>\n",
       "    </tr>\n",
       "    <tr>\n",
       "      <td>1</td>\n",
       "      <td>0mlNzVSJrT0</td>\n",
       "      <td>2017-11-14</td>\n",
       "      <td>Me-O Cats Commercial</td>\n",
       "      <td>Nobrand</td>\n",
       "      <td>22</td>\n",
       "      <td>06:47:32</td>\n",
       "      <td>cute|\"cats\"|\"thai\"|\"eggs\"</td>\n",
       "      <td>98966</td>\n",
       "      <td>2486</td>\n",
       "      <td>184</td>\n",
       "      <td>532</td>\n",
       "      <td>https://i.ytimg.com/vi/0mlNzVSJrT0/default.jpg</td>\n",
       "      <td>False</td>\n",
       "      <td>False</td>\n",
       "      <td>False</td>\n",
       "      <td>Kittens come out of the eggs in a Thai commerc...</td>\n",
       "      <td>2017-04-21</td>\n",
       "      <td>Documentary</td>\n",
       "    </tr>\n",
       "    <tr>\n",
       "      <td>2</td>\n",
       "      <td>STI2fI7sKMo</td>\n",
       "      <td>2017-11-14</td>\n",
       "      <td>AFFAIRS, EX BOYFRIENDS, $18MILLION NET WORTH -...</td>\n",
       "      <td>Shawn Johnson East</td>\n",
       "      <td>22</td>\n",
       "      <td>15:00:03</td>\n",
       "      <td>shawn johnson|\"andrew east\"|\"shawn east\"|\"shaw...</td>\n",
       "      <td>321053</td>\n",
       "      <td>4451</td>\n",
       "      <td>1772</td>\n",
       "      <td>895</td>\n",
       "      <td>https://i.ytimg.com/vi/STI2fI7sKMo/default.jpg</td>\n",
       "      <td>False</td>\n",
       "      <td>False</td>\n",
       "      <td>False</td>\n",
       "      <td>Subscribe for weekly videos ▶ http://bit.ly/sj...</td>\n",
       "      <td>2017-11-11</td>\n",
       "      <td>Documentary</td>\n",
       "    </tr>\n",
       "    <tr>\n",
       "      <td>3</td>\n",
       "      <td>KODzih-pYlU</td>\n",
       "      <td>2017-11-14</td>\n",
       "      <td>BLIND(folded) CAKE DECORATING CONTEST (with Mo...</td>\n",
       "      <td>Grace Helbig</td>\n",
       "      <td>22</td>\n",
       "      <td>18:08:04</td>\n",
       "      <td>itsgrace|\"funny\"|\"comedy\"|\"vlog\"|\"grace\"|\"helb...</td>\n",
       "      <td>197062</td>\n",
       "      <td>7250</td>\n",
       "      <td>217</td>\n",
       "      <td>456</td>\n",
       "      <td>https://i.ytimg.com/vi/KODzih-pYlU/default.jpg</td>\n",
       "      <td>False</td>\n",
       "      <td>False</td>\n",
       "      <td>False</td>\n",
       "      <td>Molly is an god damn amazing human and she cha...</td>\n",
       "      <td>2017-11-11</td>\n",
       "      <td>Documentary</td>\n",
       "    </tr>\n",
       "    <tr>\n",
       "      <td>4</td>\n",
       "      <td>8mhTWqWlQzU</td>\n",
       "      <td>2017-11-14</td>\n",
       "      <td>Wearing Online Dollar Store Makeup For A Week</td>\n",
       "      <td>Safiya Nygaard</td>\n",
       "      <td>22</td>\n",
       "      <td>01:19:33</td>\n",
       "      <td>wearing online dollar store makeup for a week|...</td>\n",
       "      <td>2744430</td>\n",
       "      <td>115426</td>\n",
       "      <td>1110</td>\n",
       "      <td>6541</td>\n",
       "      <td>https://i.ytimg.com/vi/8mhTWqWlQzU/default.jpg</td>\n",
       "      <td>False</td>\n",
       "      <td>False</td>\n",
       "      <td>False</td>\n",
       "      <td>I found this online dollar store called ShopMi...</td>\n",
       "      <td>2017-11-11</td>\n",
       "      <td>Documentary</td>\n",
       "    </tr>\n",
       "  </tbody>\n",
       "</table>\n",
       "</div>"
      ],
      "text/plain": [
       "      video_id trending_date  \\\n",
       "0  2kyS6SvSYSE    2017-11-14   \n",
       "1  0mlNzVSJrT0    2017-11-14   \n",
       "2  STI2fI7sKMo    2017-11-14   \n",
       "3  KODzih-pYlU    2017-11-14   \n",
       "4  8mhTWqWlQzU    2017-11-14   \n",
       "\n",
       "                                               title       channel_title  \\\n",
       "0                 WE WANT TO TALK ABOUT OUR MARRIAGE        CaseyNeistat   \n",
       "1                               Me-O Cats Commercial             Nobrand   \n",
       "2  AFFAIRS, EX BOYFRIENDS, $18MILLION NET WORTH -...  Shawn Johnson East   \n",
       "3  BLIND(folded) CAKE DECORATING CONTEST (with Mo...        Grace Helbig   \n",
       "4      Wearing Online Dollar Store Makeup For A Week      Safiya Nygaard   \n",
       "\n",
       "   category_id publish_time  \\\n",
       "0           22     17:13:01   \n",
       "1           22     06:47:32   \n",
       "2           22     15:00:03   \n",
       "3           22     18:08:04   \n",
       "4           22     01:19:33   \n",
       "\n",
       "                                                tags    views   likes  \\\n",
       "0                                    SHANtell martin   748374   57527   \n",
       "1                          cute|\"cats\"|\"thai\"|\"eggs\"    98966    2486   \n",
       "2  shawn johnson|\"andrew east\"|\"shawn east\"|\"shaw...   321053    4451   \n",
       "3  itsgrace|\"funny\"|\"comedy\"|\"vlog\"|\"grace\"|\"helb...   197062    7250   \n",
       "4  wearing online dollar store makeup for a week|...  2744430  115426   \n",
       "\n",
       "   dislikes  comment_count                                  thumbnail_link  \\\n",
       "0      2966          15954  https://i.ytimg.com/vi/2kyS6SvSYSE/default.jpg   \n",
       "1       184            532  https://i.ytimg.com/vi/0mlNzVSJrT0/default.jpg   \n",
       "2      1772            895  https://i.ytimg.com/vi/STI2fI7sKMo/default.jpg   \n",
       "3       217            456  https://i.ytimg.com/vi/KODzih-pYlU/default.jpg   \n",
       "4      1110           6541  https://i.ytimg.com/vi/8mhTWqWlQzU/default.jpg   \n",
       "\n",
       "   comments_disabled  ratings_disabled  video_error_or_removed  \\\n",
       "0              False             False                   False   \n",
       "1              False             False                   False   \n",
       "2              False             False                   False   \n",
       "3              False             False                   False   \n",
       "4              False             False                   False   \n",
       "\n",
       "                                         description publish_date  \\\n",
       "0  SHANTELL'S CHANNEL - https://www.youtube.com/s...   2017-11-13   \n",
       "1  Kittens come out of the eggs in a Thai commerc...   2017-04-21   \n",
       "2  Subscribe for weekly videos ▶ http://bit.ly/sj...   2017-11-11   \n",
       "3  Molly is an god damn amazing human and she cha...   2017-11-11   \n",
       "4  I found this online dollar store called ShopMi...   2017-11-11   \n",
       "\n",
       "  category_name  \n",
       "0   Documentary  \n",
       "1   Documentary  \n",
       "2   Documentary  \n",
       "3   Documentary  \n",
       "4   Documentary  "
      ]
     },
     "execution_count": 7,
     "metadata": {},
     "output_type": "execute_result"
    }
   ],
   "source": [
    "# load key and item in 'items' into a dictionary\n",
    "category_dict = {'category_id':[key for key in category['items'].keys()],\n",
    "                'category_name':[j['snippet']['title'] for i,j in category['items'].items()]}\n",
    "\n",
    "# create the dictionary from the dictionary\n",
    "category_df = pd.DataFrame.from_dict(category_dict)\n",
    "\n",
    "# merge the category datafrmae with the us_video dataframe\n",
    "us_video_all = pd.merge(us_videos, category_df, on='category_id', how='inner')\n",
    "\n",
    "# show the merged dataframe\n",
    "us_video_all.head()"
   ]
  },
  {
   "cell_type": "markdown",
   "metadata": {},
   "source": [
    "## Visualization Part"
   ]
  },
  {
   "cell_type": "markdown",
   "metadata": {},
   "source": [
    "### Show some word cloud interactively"
   ]
  },
  {
   "cell_type": "code",
   "execution_count": 8,
   "metadata": {},
   "outputs": [
    {
     "data": {
      "application/vnd.jupyter.widget-view+json": {
       "model_id": "fb3ae4924a5b4f06ae477b66de08b8da",
       "version_major": 2,
       "version_minor": 0
      },
      "text/plain": [
       "interactive(children=(Dropdown(description='column', options=('title', 'channel_title', 'tags'), value='title'…"
      ]
     },
     "metadata": {},
     "output_type": "display_data"
    }
   ],
   "source": [
    "# create a list for columns that is meaningful for doing wordcloud\n",
    "wordcloud_list = ['title','channel_title','tags']\n",
    "\n",
    "# interaction part\n",
    "@ipywidgets.interact(column=wordcloud_list)\n",
    "def make_wordcloud(column):\n",
    "    # word_cloud of Title\n",
    "    text = \" \".join(title for title in us_video_all[column])\n",
    "\n",
    "    # Generate a word cloud image\n",
    "    wordcloud = WordCloud().generate(text)\n",
    "\n",
    "    # Display the generated image:\n",
    "    fig, ax = plt.subplots(figsize=(10,6))\n",
    "    plt.imshow(wordcloud, interpolation='bilinear')\n",
    "    plt.axis(\"off\")\n",
    "    plt.show()"
   ]
  },
  {
   "cell_type": "markdown",
   "metadata": {},
   "source": [
    "From the wordcloud of different necessity columns, you can see the general main context of this colomn, for example, when choosing 'tags', we may see the most frequent items are among 'makeup tutorial', 'music video', 'star wars' and etc. It gives us a primary and direct feeling of what is most popular in the tags of the music videos in United States, which, from my point of view, is a good understanding od this dataset."
   ]
  },
  {
   "cell_type": "markdown",
   "metadata": {},
   "source": [
    "### Show detailed reviews interactively "
   ]
  },
  {
   "cell_type": "code",
   "execution_count": 9,
   "metadata": {},
   "outputs": [],
   "source": [
    "# create a cate and cate_list that includes unique category name in them \n",
    "# it is helpful for later visualization and analysis\n",
    "cate = us_video_all['category_name'].unique()\n",
    "cate.sort()\n",
    "cate_list = cate.tolist()"
   ]
  },
  {
   "cell_type": "markdown",
   "metadata": {},
   "source": [
    "#### Static Bar of different review variables grouped by category"
   ]
  },
  {
   "cell_type": "code",
   "execution_count": 10,
   "metadata": {},
   "outputs": [
    {
     "data": {
      "image/png": "[encoded data removed]",
      "text/plain": [
       "<Figure size 432x288 with 1 Axes>"
      ]
     },
     "metadata": {
      "needs_background": "light"
     },
     "output_type": "display_data"
    },
    {
     "data": {
      "image/png": "[encoded data removed]",
      "text/plain": [
       "<Figure size 432x288 with 1 Axes>"
      ]
     },
     "metadata": {
      "needs_background": "light"
     },
     "output_type": "display_data"
    },
    {
     "data": {
      "image/png": "[encoded data removed]",
      "text/plain": [
       "<Figure size 432x288 with 1 Axes>"
      ]
     },
     "metadata": {
      "needs_background": "light"
     },
     "output_type": "display_data"
    }
   ],
   "source": [
    "# This part sums main part in the first part \n",
    "# make the 'stats' for each object\n",
    "views_stats = us_video_all.groupby(\"category_name\")[\"views\"].mean()\n",
    "likes_stats = us_video_all.groupby(\"category_name\")[\"likes\"].mean()\n",
    "dislikes_stats = us_video_all.groupby(\"category_name\")[\"dislikes\"].mean()\n",
    "comment_stats = us_video_all.groupby(\"category_name\")[\"comment_count\"].mean()\n",
    "\n",
    "# make them to lists so as to use pandas dataframe to plot\n",
    "views_stats = views_stats.tolist()\n",
    "likes_stats = likes_stats.tolist()\n",
    "dislikes_stats = dislikes_stats.tolist()\n",
    "comment_stats = comment_stats.tolist()\n",
    "\n",
    "# The plot of the 'views' and 'comments'\n",
    "view_df = pd.DataFrame({'Views': views_stats,}, index = cate_list)\n",
    "comment_df = pd.DataFrame({'Comments': comment_stats}, index = cate_list)\n",
    "\n",
    "ax = view_df.plot.bar(rot=90)\n",
    "ax = comment_df.plot.bar(rot=90)\n",
    "\n",
    "# The plot of 'likes' and 'dislikes' (deliberately put together to see the difference)\n",
    "df = pd.DataFrame({'Likes': likes_stats,\n",
    "                   'Dislikes': dislikes_stats}, index = cate_list)\n",
    "ax = df.plot.bar(rot=90)"
   ]
  },
  {
   "cell_type": "markdown",
   "metadata": {},
   "source": [
    "From the first scan, we can see the category that gets the average most views is 'Comedy', but not as what I thought that higher views make higher comments, the true is the category that gets the average most comments is 'Shorts' and people give more tag of 'like' or 'dislike' on the two category. It is an interesting start and I think there must be something behind it."
   ]
  },
  {
   "cell_type": "markdown",
   "metadata": {},
   "source": [
    "#### Pie with bar of Reviews by choosing diffierent category"
   ]
  },
  {
   "cell_type": "code",
   "execution_count": 11,
   "metadata": {},
   "outputs": [
    {
     "data": {
      "application/vnd.jupyter.widget-view+json": {
       "model_id": "d9fda8d755be4be58c42d50ef89ab5ce",
       "version_major": 2,
       "version_minor": 0
      },
      "text/plain": [
       "interactive(children=(Dropdown(description='category', options=('Action/Adventure', 'Autos & Vehicles', 'Class…"
      ]
     },
     "metadata": {},
     "output_type": "display_data"
    }
   ],
   "source": [
    "# interaction part \n",
    "@ipywidgets.interact(category=cate_list)\n",
    "def review_by_category(category):\n",
    "    # create the sum of each variables \n",
    "    like_count = us_video_all[us_video_all['category_name']==category]['likes'].sum() \n",
    "    dislike_count = us_video_all[us_video_all['category_name']==category]['dislikes'].sum() \n",
    "    comment_count = us_video_all[us_video_all['category_name']==category]['comment_count'].sum() \n",
    "    view_count = us_video_all[us_video_all['category_name']==category]['views'].sum()\n",
    "\n",
    "    # create two plot in a layer\n",
    "    fig, ax = plt.subplots(1,2, figsize=(12,5))\n",
    "    \n",
    "    # Show the total view to give more information\n",
    "    print(\"\\n The total view is {}\".format(int(view_count)))\n",
    "    \n",
    "    # Set of labels, colors for pie chart, sizes\n",
    "    label = ['Likes', 'Dislikes', 'Comments']\n",
    "    colors = ['lightcoral', 'yellowgreen', 'gold']\n",
    "    sizes = [like_count,dislike_count,comment_count]\n",
    "\n",
    "    # Pie chart, where the slices will be ordered\n",
    "    ax[0].pie(sizes, labels=label, autopct='%1.1f%%', colors=colors, startangle=90)\n",
    "    ax[0].axis('equal')  # Equal aspect ratio ensures that pie is drawn as a circle.\n",
    "    \n",
    "    # bar chart\n",
    "    ax[1].bar(label, sizes, color = 'DarkOrange')\n",
    "\n",
    "    # show the plot\n",
    "    plt.show()"
   ]
  },
  {
   "cell_type": "markdown",
   "metadata": {},
   "source": [
    "From this part, we can clear see the review variables(likes, dislikes, views, comments) in different categories. We can easily find that Likes is always the most among 'likes, dislikes and comments'. Different category has different number and occupation of these variables, for example, the 'comedy' has 88.9% likes while the 'shorts' has only 64.6%, the 'Foreign' has 21.3% comments while the 'Comedy' only has 7.9% comments. "
   ]
  },
  {
   "cell_type": "markdown",
   "metadata": {},
   "source": [
    "#### Heatmap of correlation bewtween possible review variables"
   ]
  },
  {
   "cell_type": "code",
   "execution_count": 12,
   "metadata": {},
   "outputs": [
    {
     "data": {
      "application/vnd.jupyter.widget-view+json": {
       "model_id": "609452fb87c34359b867636c05d63a46",
       "version_major": 2,
       "version_minor": 0
      },
      "text/plain": [
       "interactive(children=(Dropdown(description='category', options=('Action/Adventure', 'Autos & Vehicles', 'Class…"
      ]
     },
     "metadata": {},
     "output_type": "display_data"
    }
   ],
   "source": [
    "# interactive plot\n",
    "@ipywidgets.interact(category=cate_list)\n",
    "def corr_heatmap(category):\n",
    "    # extract some columns for use\n",
    "    corr_df = us_video_all[us_video_all['category_name'] == category].loc[:,['views', 'likes', 'dislikes', 'comment_count']]\n",
    "\n",
    "    # plot\n",
    "    fig, ax = plt.subplots(figsize=(12, 7))\n",
    "    sns.heatmap(corr_df.corr(), annot = True, cmap= 'Paired', linewidths=1, \n",
    "                square=True, linewidth=.5, cbar_kws={\"shrink\": .5}, ax=ax)\n",
    "    ax.set_xticklabels(ax.get_xticklabels(), rotation=45, horizontalalignment='right') # do some beautification\n",
    "    ax.set_yticklabels(ax.get_yticklabels(), rotation=0, horizontalalignment='right')\n",
    "\n",
    "    # solve the problem of broken sns heatmap\n",
    "    bottom, top = ax.get_ylim()\n",
    "    ax.set_ylim(bottom + 0.5, top - 0.5)\n"
   ]
  },
  {
   "cell_type": "markdown",
   "metadata": {},
   "source": [
    "From this part, we can get the correlation of each two columns in a certain apoointed category, this can be preparation for deep analysis of the dataset, which is really clear. For example, we can see 'likes' has positive correlation with others except 'trending_days'. There is still a lot to discover."
   ]
  },
  {
   "cell_type": "markdown",
   "metadata": {},
   "source": [
    "### Other discover "
   ]
  },
  {
   "cell_type": "markdown",
   "metadata": {},
   "source": [
    "#### Heatmap of the trending duration"
   ]
  },
  {
   "cell_type": "code",
   "execution_count": 13,
   "metadata": {},
   "outputs": [
    {
     "data": {
      "text/plain": [
       "Text(0.5, 1, 'Category and Trending Duration in United States')"
      ]
     },
     "execution_count": 13,
     "metadata": {},
     "output_type": "execute_result"
    },
    {
     "data": {
      "image/png": "[encoded data removed]",
      "text/plain": [
       "<Figure size 864x648 with 2 Axes>"
      ]
     },
     "metadata": {
      "needs_background": "light"
     },
     "output_type": "display_data"
    }
   ],
   "source": [
    "# make sure two date columns are date type\n",
    "us_videos['trending_date'] = pd.to_datetime(us_videos['trending_date'], errors='coerce', format='%y-%m-%d')\n",
    "us_videos['publish_date'] = pd.to_datetime(us_videos['publish_date'], errors='coerce', format='%y-%m-%d')\n",
    "\n",
    "# do subtraction of the two dates and return different days in new column'trending_days'\n",
    "us_video_all['trending_days'] = (us_video_all['trending_date'].astype('<M8[ns]')-us_video_all['publish_date'].astype('<M8[ns]')).dt.days\n",
    "\n",
    "#us_video_all.head()\n",
    "\n",
    "# preprocess the data for plot\n",
    "cate_trend_duration= us_video_all.groupby(['category_name','trending_days']).count()['video_id'].unstack().clip(upper=300)\n",
    "\n",
    "# plot and set the axis and tile\n",
    "plt.figure(figsize=(12,9))\n",
    "ax = sns.heatmap(cate_trend_duration, cmap='Paired')\n",
    "ax.set_xticklabels(ax.get_xticklabels(), rotation=90, horizontalalignment='right')\n",
    "plt.title(\"Category and Trending Duration in United States\")"
   ]
  },
  {
   "cell_type": "markdown",
   "metadata": {},
   "source": [
    "From this part, we add a new column 'trending_days' to record the difference days between 'publish_date' and 'trending_date' so that we can discover the trending duration distribution of the dataset. And I choose to show it using the category as 'y' axis. It looks nice but not very rich maybe because the data is not big enough cause it is just the video data of United States, I think it would be more beautiful when using the world data."
   ]
  },
  {
   "cell_type": "markdown",
   "metadata": {},
   "source": [
    "#### Replot the heatmap in part 3.2 when adding the column 'trending_days'"
   ]
  },
  {
   "cell_type": "code",
   "execution_count": 14,
   "metadata": {},
   "outputs": [
    {
     "data": {
      "application/vnd.jupyter.widget-view+json": {
       "model_id": "28dacf03ab2f4aa6968884e7b445db71",
       "version_major": 2,
       "version_minor": 0
      },
      "text/plain": [
       "interactive(children=(Dropdown(description='category', options=('Action/Adventure', 'Autos & Vehicles', 'Class…"
      ]
     },
     "metadata": {},
     "output_type": "display_data"
    }
   ],
   "source": [
    "# Above correlation heatmap adding the column 'trending_days'\n",
    "# interactive plot\n",
    "@ipywidgets.interact(category=cate_list)\n",
    "def corr_heatmap(category):\n",
    "    # extract some columns for use\n",
    "    corr_df = us_video_all[us_video_all['category_name'] == category].loc[:,['views', 'likes', 'dislikes', 'comment_count', 'trending_days']]\n",
    "\n",
    "    # plot\n",
    "    fig, ax = plt.subplots(figsize=(12, 7))\n",
    "    sns.heatmap(corr_df.corr(), annot = True, cmap= 'Paired', linewidths=1, \n",
    "                square=True, linewidth=.5, cbar_kws={\"shrink\": .5}, ax=ax)\n",
    "    ax.set_xticklabels(ax.get_xticklabels(), rotation=45, horizontalalignment='right') # do some beautification\n",
    "    ax.set_yticklabels(ax.get_yticklabels(), rotation=0, horizontalalignment='right')\n",
    "\n",
    "    # solve the problem of broken sns heatmap\n",
    "    bottom, top = ax.get_ylim()\n",
    "    ax.set_ylim(bottom + 0.5, top - 0.5)"
   ]
  },
  {
   "cell_type": "markdown",
   "metadata": {},
   "source": [
    "Though the plot seems to be more coloful and rich, but the column 'trending_days' actually has no remarkable relationship with other variables."
   ]
  },
  {
   "cell_type": "markdown",
   "metadata": {},
   "source": [
    "## Conlusion"
   ]
  },
  {
   "cell_type": "markdown",
   "metadata": {},
   "source": [
    "From the top to the end, it seems not complex to show but there are quite a lot of work to do. I think I have done a good discover on different dimensions of the dataset. Meanwhile, I show various styles of plot to add the readability and detailed comment within the notebook. \n",
    "\n",
    "However, there are still a lot to improve, if given more time, I would include more related dataset and do more interactions. The interactions here I have done seem to be a little similar because I haven't found other ways to show the limitation of the data fot interaction. To conlude, I will keep going."
   ]
  }
 ],
 "metadata": {
  "kernelspec": {
   "display_name": "Python 3",
   "language": "python",
   "name": "python3"
  },
  "language_info": {
   "codemirror_mode": {
    "name": "ipython",
    "version": 3
   },
   "file_extension": ".py",
   "mimetype": "text/x-python",
   "name": "python",
   "nbconvert_exporter": "python",
   "pygments_lexer": "ipython3",
   "version": "3.7.4"
  },
  "toc": {
   "base_numbering": 1,
   "nav_menu": {},
   "number_sections": true,
   "sideBar": true,
   "skip_h1_title": true,
   "title_cell": "Table of Contents",
   "title_sidebar": "Contents",
   "toc_cell": true,
   "toc_position": {},
   "toc_section_display": true,
   "toc_window_display": false
  }
 },
 "nbformat": 4,
 "nbformat_minor": 2
}
